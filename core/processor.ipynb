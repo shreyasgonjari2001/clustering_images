{
 "cells": [
  {
   "cell_type": "code",
   "execution_count": 1,
   "id": "0006d707-34cb-42b3-98f1-a58ce398519b",
   "metadata": {},
   "outputs": [],
   "source": [
    "import cv2 as cv\n",
    "import numpy as np\n",
    "import pandas as pd"
   ]
  },
  {
   "cell_type": "code",
   "execution_count": 6,
   "id": "c3904190-6102-40c8-914e-7bad17bf5487",
   "metadata": {},
   "outputs": [
    {
     "name": "stdout",
     "output_type": "stream",
     "text": [
      "WARNING:tensorflow:From C:\\Users\\shrey\\AppData\\Local\\Programs\\Python\\Python312\\Lib\\site-packages\\tf_keras\\src\\losses.py:2976: The name tf.losses.sparse_softmax_cross_entropy is deprecated. Please use tf.compat.v1.losses.sparse_softmax_cross_entropy instead.\n",
      "\n"
     ]
    }
   ],
   "source": [
    "import tensorflow as tf\n",
    "import tensorflow_hub as hub"
   ]
  },
  {
   "cell_type": "code",
   "execution_count": 4,
   "id": "230f01cf-9250-47b8-9d54-22c198ce30ee",
   "metadata": {},
   "outputs": [],
   "source": [
    "def get_faces(frame):\n",
    "    # converting to grayscale\n",
    "    frame_gray = cv.cvtColor(frame, cv.COLOR_BGR2GRAY)\n",
    "    frame_gray = cv.equalizeHist(frame_gray)\n",
    "\n",
    "    face_cascade = cv.CascadeClassifier(cv.data.haarcascades + 'haarcascade_frontalface_default.xml')\n",
    "    # detecting faces\n",
    "    faces = face_cascade.detectMultiScale(frame_gray, scaleFactor=1.1, minNeighbors=5)\n",
    "\n",
    "    frame_faces = []\n",
    "    for (x, y, w, d) in faces:\n",
    "        frame_faces.append(frame[x: x+w, y: y+d])\n",
    "\n",
    "    return frame_faces, faces"
   ]
  },
  {
   "cell_type": "code",
   "execution_count": null,
   "id": "93a8405f-fc34-44ae-a261-f2447da478d6",
   "metadata": {},
   "outputs": [],
   "source": []
  }
 ],
 "metadata": {
  "kernelspec": {
   "display_name": "Python 3 (ipykernel)",
   "language": "python",
   "name": "python3"
  },
  "language_info": {
   "codemirror_mode": {
    "name": "ipython",
    "version": 3
   },
   "file_extension": ".py",
   "mimetype": "text/x-python",
   "name": "python",
   "nbconvert_exporter": "python",
   "pygments_lexer": "ipython3",
   "version": "3.12.7"
  }
 },
 "nbformat": 4,
 "nbformat_minor": 5
}
